{
 "cells": [
  {
   "cell_type": "markdown",
   "id": "2f1b2eb8",
   "metadata": {},
   "source": [
    "# Marketing Analytics Teste A/B"
   ]
  },
  {
   "cell_type": "markdown",
   "id": "5aa65d45",
   "metadata": {},
   "source": [
    "![](testeab.png)"
   ]
  },
  {
   "cell_type": "markdown",
   "id": "0b47a473",
   "metadata": {},
   "source": [
    "*Portifólio Thiago Gonçalves Custódio*"
   ]
  },
  {
   "cell_type": "markdown",
   "id": "5dc1eb3d",
   "metadata": {},
   "source": [
    "##  1. Definição do Problema "
   ]
  },
  {
   "cell_type": "markdown",
   "id": "af6bb59d",
   "metadata": {},
   "source": [
    "Avaliar se alteração estratégica em página e-commerce aumentaram as vendas.\n"
   ]
  },
  {
   "cell_type": "markdown",
   "id": "b9b33798",
   "metadata": {},
   "source": [
    "### 1.1 Informações sobre o DataSet"
   ]
  },
  {
   "cell_type": "markdown",
   "id": "fbe65e1e",
   "metadata": {},
   "source": [
    "Usaremos dados fictícios, que representam valores que seriam possíveis em um teste real."
   ]
  },
  {
   "cell_type": "markdown",
   "id": "844048f3",
   "metadata": {},
   "source": [
    "## 2. Instalando e Carregando os Pacotes"
   ]
  },
  {
   "cell_type": "code",
   "execution_count": 1,
   "id": "2c94e786",
   "metadata": {},
   "outputs": [
    {
     "name": "stdout",
     "output_type": "stream",
     "text": [
      "Author: Thiago Gonçalves Custódio\n",
      "\n",
      "datetime  : 4.3\n",
      "numpy     : 1.20.1\n",
      "matplotlib: 3.4.0\n",
      "scipy     : 1.6.2\n",
      "pandas    : 1.2.2\n",
      "\n"
     ]
    }
   ],
   "source": [
    "!pip install -q -U watermark\n",
    "\n",
    "# Imports\n",
    "import datetime\n",
    "import matplotlib\n",
    "import numpy as np\n",
    "import pandas as pd\n",
    "import matplotlib.pyplot as plt\n",
    "import scipy.stats as scs\n",
    "\n",
    "# Formatação dos gráficos\n",
    "plt.style.use('fivethirtyeight')\n",
    "plt.figure(1 , figsize = (15 , 6))\n",
    "%matplotlib inline\n",
    "\n",
    "# Versões dos pacotes usados neste jupyter notebook\n",
    "%reload_ext watermark\n",
    "%watermark -a \"Thiago Gonçalves Custódio\" --iversions"
   ]
  },
  {
   "cell_type": "markdown",
   "id": "7a14e4ea",
   "metadata": {},
   "source": [
    "### 2.1 Carga dos Dados / DataSet"
   ]
  },
  {
   "cell_type": "markdown",
   "id": "9da3cb18",
   "metadata": {},
   "source": [
    "Variante A: Versão atual de controle sem ajustes.\n",
    "\n",
    "Variante B: Contém a respectiva alteração na página WEB."
   ]
  },
  {
   "cell_type": "code",
   "execution_count": 2,
   "id": "dd0d79fc",
   "metadata": {},
   "outputs": [],
   "source": [
    "# Carrega os dados\n",
    "df = pd.read_csv(\"dados/dataset.csv\")"
   ]
  },
  {
   "cell_type": "code",
   "execution_count": 3,
   "id": "c18f5c95",
   "metadata": {},
   "outputs": [
    {
     "data": {
      "text/html": [
       "<div>\n",
       "<style scoped>\n",
       "    .dataframe tbody tr th:only-of-type {\n",
       "        vertical-align: middle;\n",
       "    }\n",
       "\n",
       "    .dataframe tbody tr th {\n",
       "        vertical-align: top;\n",
       "    }\n",
       "\n",
       "    .dataframe thead th {\n",
       "        text-align: right;\n",
       "    }\n",
       "</style>\n",
       "<table border=\"1\" class=\"dataframe\">\n",
       "  <thead>\n",
       "    <tr style=\"text-align: right;\">\n",
       "      <th></th>\n",
       "      <th>id</th>\n",
       "      <th>variante</th>\n",
       "      <th>compra</th>\n",
       "      <th>data</th>\n",
       "    </tr>\n",
       "  </thead>\n",
       "  <tbody>\n",
       "    <tr>\n",
       "      <th>0</th>\n",
       "      <td>0x6f9421</td>\n",
       "      <td>A</td>\n",
       "      <td>False</td>\n",
       "      <td>2019-12-26</td>\n",
       "    </tr>\n",
       "    <tr>\n",
       "      <th>1</th>\n",
       "      <td>0x59d442</td>\n",
       "      <td>A</td>\n",
       "      <td>False</td>\n",
       "      <td>2019-08-16</td>\n",
       "    </tr>\n",
       "    <tr>\n",
       "      <th>2</th>\n",
       "      <td>0x6db8f8</td>\n",
       "      <td>A</td>\n",
       "      <td>True</td>\n",
       "      <td>2019-03-18</td>\n",
       "    </tr>\n",
       "    <tr>\n",
       "      <th>3</th>\n",
       "      <td>0x68245d</td>\n",
       "      <td>A</td>\n",
       "      <td>False</td>\n",
       "      <td>2019-02-13</td>\n",
       "    </tr>\n",
       "  </tbody>\n",
       "</table>\n",
       "</div>"
      ],
      "text/plain": [
       "         id variante  compra        data\n",
       "0  0x6f9421        A   False  2019-12-26\n",
       "1  0x59d442        A   False  2019-08-16\n",
       "2  0x6db8f8        A    True  2019-03-18\n",
       "3  0x68245d        A   False  2019-02-13"
      ]
     },
     "execution_count": 3,
     "metadata": {},
     "output_type": "execute_result"
    }
   ],
   "source": [
    "# Visualiza os dados\n",
    "df.head(4)"
   ]
  },
  {
   "cell_type": "code",
   "execution_count": 4,
   "id": "d5bb2129",
   "metadata": {},
   "outputs": [
    {
     "data": {
      "text/html": [
       "<div>\n",
       "<style scoped>\n",
       "    .dataframe tbody tr th:only-of-type {\n",
       "        vertical-align: middle;\n",
       "    }\n",
       "\n",
       "    .dataframe tbody tr th {\n",
       "        vertical-align: top;\n",
       "    }\n",
       "\n",
       "    .dataframe thead th {\n",
       "        text-align: right;\n",
       "    }\n",
       "</style>\n",
       "<table border=\"1\" class=\"dataframe\">\n",
       "  <thead>\n",
       "    <tr style=\"text-align: right;\">\n",
       "      <th></th>\n",
       "      <th>id</th>\n",
       "      <th>variante</th>\n",
       "      <th>compra</th>\n",
       "      <th>data</th>\n",
       "    </tr>\n",
       "  </thead>\n",
       "  <tbody>\n",
       "    <tr>\n",
       "      <th>54996</th>\n",
       "      <td>0x871d51</td>\n",
       "      <td>A</td>\n",
       "      <td>False</td>\n",
       "      <td>2019-03-22</td>\n",
       "    </tr>\n",
       "    <tr>\n",
       "      <th>54997</th>\n",
       "      <td>0x50d163</td>\n",
       "      <td>A</td>\n",
       "      <td>False</td>\n",
       "      <td>2019-02-10</td>\n",
       "    </tr>\n",
       "    <tr>\n",
       "      <th>54998</th>\n",
       "      <td>0x3544c4</td>\n",
       "      <td>B</td>\n",
       "      <td>False</td>\n",
       "      <td>2020-01-09</td>\n",
       "    </tr>\n",
       "    <tr>\n",
       "      <th>54999</th>\n",
       "      <td>0x983331</td>\n",
       "      <td>A</td>\n",
       "      <td>False</td>\n",
       "      <td>2019-09-05</td>\n",
       "    </tr>\n",
       "  </tbody>\n",
       "</table>\n",
       "</div>"
      ],
      "text/plain": [
       "             id variante  compra        data\n",
       "54996  0x871d51        A   False  2019-03-22\n",
       "54997  0x50d163        A   False  2019-02-10\n",
       "54998  0x3544c4        B   False  2020-01-09\n",
       "54999  0x983331        A   False  2019-09-05"
      ]
     },
     "execution_count": 4,
     "metadata": {},
     "output_type": "execute_result"
    }
   ],
   "source": [
    "# Visualiza \n",
    "df.tail(4)"
   ]
  },
  {
   "cell_type": "code",
   "execution_count": 5,
   "id": "5b183384",
   "metadata": {},
   "outputs": [
    {
     "data": {
      "text/plain": [
       "(55000, 4)"
      ]
     },
     "execution_count": 5,
     "metadata": {},
     "output_type": "execute_result"
    }
   ],
   "source": [
    "# Shape\n",
    "df.shape"
   ]
  },
  {
   "cell_type": "markdown",
   "id": "8d1387a0",
   "metadata": {},
   "source": [
    "## 3. Análise Exploratória e Cálculo de Probabilidade"
   ]
  },
  {
   "cell_type": "code",
   "execution_count": 6,
   "id": "f4bab26f",
   "metadata": {},
   "outputs": [
    {
     "data": {
      "text/plain": [
       "id          object\n",
       "variante    object\n",
       "compra        bool\n",
       "data        object\n",
       "dtype: object"
      ]
     },
     "execution_count": 6,
     "metadata": {},
     "output_type": "execute_result"
    }
   ],
   "source": [
    "# Tipos de dados\n",
    "df.dtypes"
   ]
  },
  {
   "cell_type": "code",
   "execution_count": 7,
   "id": "7d97ec91",
   "metadata": {},
   "outputs": [
    {
     "name": "stdout",
     "output_type": "stream",
     "text": [
      "Data Mínima: 2019-01-01\n",
      "Data Máxima: 2020-01-30\n"
     ]
    }
   ],
   "source": [
    "# Data mínima e Data Maxima\n",
    "print('Data Mínima:', df['data'].min())\n",
    "print('Data Máxima:', df['data'].max())"
   ]
  },
  {
   "cell_type": "code",
   "execution_count": 8,
   "id": "1f6339fe",
   "metadata": {},
   "outputs": [
    {
     "data": {
      "text/plain": [
       "id          0\n",
       "variante    0\n",
       "compra      0\n",
       "data        0\n",
       "dtype: int64"
      ]
     },
     "execution_count": 8,
     "metadata": {},
     "output_type": "execute_result"
    }
   ],
   "source": [
    "# Checamos por valores nulos\n",
    "df.isnull().sum()"
   ]
  },
  {
   "cell_type": "code",
   "execution_count": 9,
   "id": "d4c458bc",
   "metadata": {},
   "outputs": [
    {
     "data": {
      "text/plain": [
       "55000"
      ]
     },
     "execution_count": 9,
     "metadata": {},
     "output_type": "execute_result"
    }
   ],
   "source": [
    "# Checamos se temos IDs duplicados\n",
    "df.id.value_counts().count()"
   ]
  },
  {
   "cell_type": "code",
   "execution_count": 10,
   "id": "77f32c42",
   "metadata": {},
   "outputs": [
    {
     "data": {
      "text/plain": [
       "False    46416\n",
       "True      8584\n",
       "Name: compra, dtype: int64"
      ]
     },
     "execution_count": 10,
     "metadata": {},
     "output_type": "execute_result"
    }
   ],
   "source": [
    "# Proporção do resultado de conversão\n",
    "df.compra.value_counts()"
   ]
  },
  {
   "cell_type": "code",
   "execution_count": 11,
   "id": "a9619e03",
   "metadata": {},
   "outputs": [
    {
     "data": {
      "text/plain": [
       "A    50000\n",
       "B     5000\n",
       "Name: variante, dtype: int64"
      ]
     },
     "execution_count": 11,
     "metadata": {},
     "output_type": "execute_result"
    }
   ],
   "source": [
    "# Proporção das variantes mostradas aos usuários\n",
    "df.variante.value_counts()"
   ]
  },
  {
   "cell_type": "markdown",
   "id": "efb133bd",
   "metadata": {},
   "source": [
    "Calculando probabilidades básicas."
   ]
  },
  {
   "cell_type": "markdown",
   "id": "24e99780",
   "metadata": {},
   "source": [
    "### Variante A é o grupo de controle. Variante B é o grupo de teste ou tratamento."
   ]
  },
  {
   "cell_type": "code",
   "execution_count": 12,
   "id": "732d3059",
   "metadata": {},
   "outputs": [
    {
     "data": {
      "text/plain": [
       "90.9090909090909"
      ]
     },
     "execution_count": 12,
     "metadata": {},
     "output_type": "execute_result"
    }
   ],
   "source": [
    "# Probabilidade de um usuário visualizar a variante A\n",
    "df[df.variante == 'A'].shape[0] / df.shape[0] * 100"
   ]
  },
  {
   "cell_type": "code",
   "execution_count": 13,
   "id": "8cc2649c",
   "metadata": {},
   "outputs": [
    {
     "data": {
      "text/plain": [
       "100.0"
      ]
     },
     "execution_count": 13,
     "metadata": {},
     "output_type": "execute_result"
    }
   ],
   "source": [
    "# Probabilidade de um usuário visualizar qualquer variante\n",
    "df.shape[0] / df.shape[0] * 100"
   ]
  },
  {
   "cell_type": "code",
   "execution_count": 14,
   "id": "c506ba0a",
   "metadata": {},
   "outputs": [
    {
     "data": {
      "text/plain": [
       "9.090909090909092"
      ]
     },
     "execution_count": 14,
     "metadata": {},
     "output_type": "execute_result"
    }
   ],
   "source": [
    "# Probabilidade de um usuário visualizar a variante B\n",
    "df[df.variante == 'B'].shape[0] / df.shape[0] * 100"
   ]
  },
  {
   "cell_type": "code",
   "execution_count": 15,
   "id": "7a24e168",
   "metadata": {},
   "outputs": [
    {
     "data": {
      "text/plain": [
       "8584"
      ]
     },
     "execution_count": 15,
     "metadata": {},
     "output_type": "execute_result"
    }
   ],
   "source": [
    "# Total de compras realizadas (conversões)\n",
    "df.compra.sum()"
   ]
  },
  {
   "cell_type": "code",
   "execution_count": 16,
   "id": "9b8875aa",
   "metadata": {},
   "outputs": [
    {
     "data": {
      "text/plain": [
       "7603"
      ]
     },
     "execution_count": 16,
     "metadata": {},
     "output_type": "execute_result"
    }
   ],
   "source": [
    "# Total de compras realizadas variante A\n",
    "df[df.variante == 'A'].compra.sum()"
   ]
  },
  {
   "cell_type": "code",
   "execution_count": 17,
   "id": "df67de09",
   "metadata": {},
   "outputs": [
    {
     "data": {
      "text/plain": [
       "981"
      ]
     },
     "execution_count": 17,
     "metadata": {},
     "output_type": "execute_result"
    }
   ],
   "source": [
    "# Total de compras realizadas variante B\n",
    "df[df.variante == 'B'].compra.sum()"
   ]
  },
  {
   "cell_type": "code",
   "execution_count": 18,
   "id": "4f5171ec",
   "metadata": {},
   "outputs": [
    {
     "data": {
      "text/plain": [
       "0.15607272727272728"
      ]
     },
     "execution_count": 18,
     "metadata": {},
     "output_type": "execute_result"
    }
   ],
   "source": [
    "# Probabilidade de conversão independente da variante recebida\n",
    "df.compra.mean()"
   ]
  },
  {
   "cell_type": "code",
   "execution_count": 19,
   "id": "dbbb6a54",
   "metadata": {},
   "outputs": [
    {
     "data": {
      "text/plain": [
       "0.15206"
      ]
     },
     "execution_count": 19,
     "metadata": {},
     "output_type": "execute_result"
    }
   ],
   "source": [
    "# Probabilidade de conversão independente da variante A\n",
    "df[df.variante == 'A'].compra.mean()"
   ]
  },
  {
   "cell_type": "code",
   "execution_count": 20,
   "id": "38d09b08",
   "metadata": {},
   "outputs": [
    {
     "data": {
      "text/plain": [
       "0.1962"
      ]
     },
     "execution_count": 20,
     "metadata": {},
     "output_type": "execute_result"
    }
   ],
   "source": [
    "# Probabilidade de conversão independente da variante B\n",
    "df[df.variante == 'B'].compra.mean()"
   ]
  },
  {
   "cell_type": "markdown",
   "id": "a8e2de44",
   "metadata": {},
   "source": [
    "Percebemos que a probabilidade de receber a nova página é de 9,09% com probabilidade total de conversão de 19,62%. Precisamos checar se temos evidências suficientes para dizer que o grupo de tratamento leva a um aumento das conversões."
   ]
  },
  {
   "cell_type": "markdown",
   "id": "0dfcb0b1",
   "metadata": {},
   "source": [
    "## 4.  Experimento"
   ]
  },
  {
   "cell_type": "markdown",
   "id": "0bfe5428",
   "metadata": {},
   "source": [
    "### 4.1 Etapa 1 - Configurações"
   ]
  },
  {
   "cell_type": "markdown",
   "id": "5e8e147f",
   "metadata": {},
   "source": [
    "O ajuste estratégico na página ocasionou aumento nas Vendas?\n",
    "\n",
    "Variante A: Versão atual de controle sem ajustes.\n",
    "\n",
    "Variante B: Contém a respectiva alteração na página WEB.\n",
    "\n",
    "Para este teste definiremos as hipóteses conforme abaixo:\n",
    "\n",
    "- H0: PB - PA = 0\n",
    "- H1: PB - PA > 0\n",
    "\n",
    "H0 nos diz que a diferença de probabilidade dos dois grupos é igual a zero.\n",
    "\n",
    "H1 nos diz que a diferença de probabilidade dos dois grupos é maior do que zero."
   ]
  },
  {
   "cell_type": "markdown",
   "id": "7eec5c6a",
   "metadata": {},
   "source": [
    "#### 4.1.1 Pré-Processamento dos Dados"
   ]
  },
  {
   "cell_type": "markdown",
   "id": "61f64500",
   "metadata": {},
   "source": [
    "Faremos alguns cálculos pesados e para simplificar o processo, iremos filtrar os dados e usar apenas um dos meses."
   ]
  },
  {
   "cell_type": "code",
   "execution_count": 21,
   "id": "6dba4dd9",
   "metadata": {},
   "outputs": [],
   "source": [
    "# Função para extrair ano e mês da data\n",
    "def extrai_data(x):\n",
    "    return x[:7]"
   ]
  },
  {
   "cell_type": "code",
   "execution_count": 22,
   "id": "c1bb4f1d",
   "metadata": {},
   "outputs": [],
   "source": [
    "# Extrai ano e mês da coluna de data\n",
    "df['ano_mes'] = df['data'].apply(extrai_data)"
   ]
  },
  {
   "cell_type": "code",
   "execution_count": 23,
   "id": "4ad3c278",
   "metadata": {},
   "outputs": [
    {
     "data": {
      "text/html": [
       "<div>\n",
       "<style scoped>\n",
       "    .dataframe tbody tr th:only-of-type {\n",
       "        vertical-align: middle;\n",
       "    }\n",
       "\n",
       "    .dataframe tbody tr th {\n",
       "        vertical-align: top;\n",
       "    }\n",
       "\n",
       "    .dataframe thead th {\n",
       "        text-align: right;\n",
       "    }\n",
       "</style>\n",
       "<table border=\"1\" class=\"dataframe\">\n",
       "  <thead>\n",
       "    <tr style=\"text-align: right;\">\n",
       "      <th></th>\n",
       "      <th>id</th>\n",
       "      <th>variante</th>\n",
       "      <th>compra</th>\n",
       "      <th>data</th>\n",
       "      <th>ano_mes</th>\n",
       "    </tr>\n",
       "  </thead>\n",
       "  <tbody>\n",
       "    <tr>\n",
       "      <th>0</th>\n",
       "      <td>0x6f9421</td>\n",
       "      <td>A</td>\n",
       "      <td>False</td>\n",
       "      <td>2019-12-26</td>\n",
       "      <td>2019-12</td>\n",
       "    </tr>\n",
       "    <tr>\n",
       "      <th>1</th>\n",
       "      <td>0x59d442</td>\n",
       "      <td>A</td>\n",
       "      <td>False</td>\n",
       "      <td>2019-08-16</td>\n",
       "      <td>2019-08</td>\n",
       "    </tr>\n",
       "    <tr>\n",
       "      <th>2</th>\n",
       "      <td>0x6db8f8</td>\n",
       "      <td>A</td>\n",
       "      <td>True</td>\n",
       "      <td>2019-03-18</td>\n",
       "      <td>2019-03</td>\n",
       "    </tr>\n",
       "    <tr>\n",
       "      <th>3</th>\n",
       "      <td>0x68245d</td>\n",
       "      <td>A</td>\n",
       "      <td>False</td>\n",
       "      <td>2019-02-13</td>\n",
       "      <td>2019-02</td>\n",
       "    </tr>\n",
       "    <tr>\n",
       "      <th>4</th>\n",
       "      <td>0x28566e</td>\n",
       "      <td>A</td>\n",
       "      <td>False</td>\n",
       "      <td>2019-09-28</td>\n",
       "      <td>2019-09</td>\n",
       "    </tr>\n",
       "  </tbody>\n",
       "</table>\n",
       "</div>"
      ],
      "text/plain": [
       "         id variante  compra        data  ano_mes\n",
       "0  0x6f9421        A   False  2019-12-26  2019-12\n",
       "1  0x59d442        A   False  2019-08-16  2019-08\n",
       "2  0x6db8f8        A    True  2019-03-18  2019-03\n",
       "3  0x68245d        A   False  2019-02-13  2019-02\n",
       "4  0x28566e        A   False  2019-09-28  2019-09"
      ]
     },
     "execution_count": 23,
     "metadata": {},
     "output_type": "execute_result"
    }
   ],
   "source": [
    "# Visualiza\n",
    "df.head()"
   ]
  },
  {
   "cell_type": "code",
   "execution_count": 24,
   "id": "f8293a07",
   "metadata": {},
   "outputs": [],
   "source": [
    "# Vamos trabalhar apenas com os dados de Janeiro/2020 para simplificar o processo didaticamente\n",
    "df_vendas_2020 = df[df['ano_mes'] == '2020-01']"
   ]
  },
  {
   "cell_type": "code",
   "execution_count": 25,
   "id": "d12c7ed6",
   "metadata": {},
   "outputs": [
    {
     "data": {
      "text/html": [
       "<div>\n",
       "<style scoped>\n",
       "    .dataframe tbody tr th:only-of-type {\n",
       "        vertical-align: middle;\n",
       "    }\n",
       "\n",
       "    .dataframe tbody tr th {\n",
       "        vertical-align: top;\n",
       "    }\n",
       "\n",
       "    .dataframe thead th {\n",
       "        text-align: right;\n",
       "    }\n",
       "</style>\n",
       "<table border=\"1\" class=\"dataframe\">\n",
       "  <thead>\n",
       "    <tr style=\"text-align: right;\">\n",
       "      <th></th>\n",
       "      <th>id</th>\n",
       "      <th>variante</th>\n",
       "      <th>compra</th>\n",
       "      <th>data</th>\n",
       "      <th>ano_mes</th>\n",
       "    </tr>\n",
       "  </thead>\n",
       "  <tbody>\n",
       "    <tr>\n",
       "      <th>5</th>\n",
       "      <td>0x792f1d</td>\n",
       "      <td>A</td>\n",
       "      <td>False</td>\n",
       "      <td>2020-01-14</td>\n",
       "      <td>2020-01</td>\n",
       "    </tr>\n",
       "    <tr>\n",
       "      <th>7</th>\n",
       "      <td>0x724b78</td>\n",
       "      <td>B</td>\n",
       "      <td>False</td>\n",
       "      <td>2020-01-23</td>\n",
       "      <td>2020-01</td>\n",
       "    </tr>\n",
       "    <tr>\n",
       "      <th>9</th>\n",
       "      <td>0x684bf9</td>\n",
       "      <td>A</td>\n",
       "      <td>False</td>\n",
       "      <td>2020-01-17</td>\n",
       "      <td>2020-01</td>\n",
       "    </tr>\n",
       "    <tr>\n",
       "      <th>10</th>\n",
       "      <td>0x6394dc</td>\n",
       "      <td>A</td>\n",
       "      <td>False</td>\n",
       "      <td>2020-01-06</td>\n",
       "      <td>2020-01</td>\n",
       "    </tr>\n",
       "    <tr>\n",
       "      <th>11</th>\n",
       "      <td>0x625f5d</td>\n",
       "      <td>A</td>\n",
       "      <td>False</td>\n",
       "      <td>2020-01-05</td>\n",
       "      <td>2020-01</td>\n",
       "    </tr>\n",
       "  </tbody>\n",
       "</table>\n",
       "</div>"
      ],
      "text/plain": [
       "          id variante  compra        data  ano_mes\n",
       "5   0x792f1d        A   False  2020-01-14  2020-01\n",
       "7   0x724b78        B   False  2020-01-23  2020-01\n",
       "9   0x684bf9        A   False  2020-01-17  2020-01\n",
       "10  0x6394dc        A   False  2020-01-06  2020-01\n",
       "11  0x625f5d        A   False  2020-01-05  2020-01"
      ]
     },
     "execution_count": 25,
     "metadata": {},
     "output_type": "execute_result"
    }
   ],
   "source": [
    "# Visualiza\n",
    "df_vendas_2020.head()"
   ]
  },
  {
   "cell_type": "code",
   "execution_count": 26,
   "id": "8c0f3910",
   "metadata": {},
   "outputs": [
    {
     "data": {
      "text/plain": [
       "(8821, 5)"
      ]
     },
     "execution_count": 26,
     "metadata": {},
     "output_type": "execute_result"
    }
   ],
   "source": [
    "# shape\n",
    "df_vendas_2020.shape"
   ]
  },
  {
   "cell_type": "markdown",
   "id": "2ade3027",
   "metadata": {},
   "source": [
    "#### 4.1.2 Criação do Baseline"
   ]
  },
  {
   "cell_type": "markdown",
   "id": "8f5edb1e",
   "metadata": {},
   "source": [
    "Vamos criar um baseline (linha base) da taxa de conversão antes de executar o teste de hipótese. Assim, saberemos a taxa de conversão base e o aumento desejado em compras que gostaríamos de testar.\n",
    "\n",
    "A será o grupo de controle\n",
    "\n",
    "B será o grupo de teste"
   ]
  },
  {
   "cell_type": "code",
   "execution_count": 27,
   "id": "fb90e5ab",
   "metadata": {},
   "outputs": [
    {
     "data": {
      "text/html": [
       "<div>\n",
       "<style scoped>\n",
       "    .dataframe tbody tr th:only-of-type {\n",
       "        vertical-align: middle;\n",
       "    }\n",
       "\n",
       "    .dataframe tbody tr th {\n",
       "        vertical-align: top;\n",
       "    }\n",
       "\n",
       "    .dataframe thead th {\n",
       "        text-align: right;\n",
       "    }\n",
       "</style>\n",
       "<table border=\"1\" class=\"dataframe\">\n",
       "  <thead>\n",
       "    <tr style=\"text-align: right;\">\n",
       "      <th></th>\n",
       "      <th>variante</th>\n",
       "      <th>compra</th>\n",
       "    </tr>\n",
       "  </thead>\n",
       "  <tbody>\n",
       "    <tr>\n",
       "      <th>5</th>\n",
       "      <td>A</td>\n",
       "      <td>False</td>\n",
       "    </tr>\n",
       "    <tr>\n",
       "      <th>7</th>\n",
       "      <td>B</td>\n",
       "      <td>False</td>\n",
       "    </tr>\n",
       "    <tr>\n",
       "      <th>9</th>\n",
       "      <td>A</td>\n",
       "      <td>False</td>\n",
       "    </tr>\n",
       "    <tr>\n",
       "      <th>10</th>\n",
       "      <td>A</td>\n",
       "      <td>False</td>\n",
       "    </tr>\n",
       "    <tr>\n",
       "      <th>11</th>\n",
       "      <td>A</td>\n",
       "      <td>False</td>\n",
       "    </tr>\n",
       "  </tbody>\n",
       "</table>\n",
       "</div>"
      ],
      "text/plain": [
       "   variante  compra\n",
       "5         A   False\n",
       "7         B   False\n",
       "9         A   False\n",
       "10        A   False\n",
       "11        A   False"
      ]
     },
     "execution_count": 27,
     "metadata": {},
     "output_type": "execute_result"
    }
   ],
   "source": [
    "# Geramos um dataframe\n",
    "df_ab_data = df_vendas_2020[['variante', 'compra']]\n",
    "df_ab_data.head()"
   ]
  },
  {
   "cell_type": "code",
   "execution_count": 28,
   "id": "a024fdef",
   "metadata": {},
   "outputs": [
    {
     "data": {
      "text/plain": [
       "(8821, 2)"
      ]
     },
     "execution_count": 28,
     "metadata": {},
     "output_type": "execute_result"
    }
   ],
   "source": [
    "# Shape\n",
    "df_ab_data.shape"
   ]
  },
  {
   "cell_type": "code",
   "execution_count": 29,
   "id": "c2b02c5b",
   "metadata": {},
   "outputs": [],
   "source": [
    "# Altera o nome das colunas\n",
    "df_ab_data.columns = ['grupo', 'conversao']"
   ]
  },
  {
   "cell_type": "code",
   "execution_count": 30,
   "id": "56b59dbd",
   "metadata": {},
   "outputs": [
    {
     "data": {
      "text/html": [
       "<div>\n",
       "<style scoped>\n",
       "    .dataframe tbody tr th:only-of-type {\n",
       "        vertical-align: middle;\n",
       "    }\n",
       "\n",
       "    .dataframe tbody tr th {\n",
       "        vertical-align: top;\n",
       "    }\n",
       "\n",
       "    .dataframe thead th {\n",
       "        text-align: right;\n",
       "    }\n",
       "</style>\n",
       "<table border=\"1\" class=\"dataframe\">\n",
       "  <thead>\n",
       "    <tr style=\"text-align: right;\">\n",
       "      <th></th>\n",
       "      <th>grupo</th>\n",
       "      <th>conversao</th>\n",
       "    </tr>\n",
       "  </thead>\n",
       "  <tbody>\n",
       "    <tr>\n",
       "      <th>5</th>\n",
       "      <td>A</td>\n",
       "      <td>False</td>\n",
       "    </tr>\n",
       "    <tr>\n",
       "      <th>7</th>\n",
       "      <td>B</td>\n",
       "      <td>False</td>\n",
       "    </tr>\n",
       "    <tr>\n",
       "      <th>9</th>\n",
       "      <td>A</td>\n",
       "      <td>False</td>\n",
       "    </tr>\n",
       "    <tr>\n",
       "      <th>10</th>\n",
       "      <td>A</td>\n",
       "      <td>False</td>\n",
       "    </tr>\n",
       "    <tr>\n",
       "      <th>11</th>\n",
       "      <td>A</td>\n",
       "      <td>False</td>\n",
       "    </tr>\n",
       "  </tbody>\n",
       "</table>\n",
       "</div>"
      ],
      "text/plain": [
       "   grupo  conversao\n",
       "5      A      False\n",
       "7      B      False\n",
       "9      A      False\n",
       "10     A      False\n",
       "11     A      False"
      ]
     },
     "execution_count": 30,
     "metadata": {},
     "output_type": "execute_result"
    }
   ],
   "source": [
    "# Visualiza\n",
    "df_ab_data.head()"
   ]
  },
  {
   "cell_type": "code",
   "execution_count": 31,
   "id": "3d3a43c0",
   "metadata": {},
   "outputs": [],
   "source": [
    "# Tabela pivot para o sumário dos dados\n",
    "df_ab_sumario = df_ab_data.pivot_table(values = 'conversao', index = 'grupo', aggfunc = np.sum)"
   ]
  },
  {
   "cell_type": "code",
   "execution_count": 32,
   "id": "5dbdbcaa",
   "metadata": {},
   "outputs": [
    {
     "data": {
      "text/html": [
       "<div>\n",
       "<style scoped>\n",
       "    .dataframe tbody tr th:only-of-type {\n",
       "        vertical-align: middle;\n",
       "    }\n",
       "\n",
       "    .dataframe tbody tr th {\n",
       "        vertical-align: top;\n",
       "    }\n",
       "\n",
       "    .dataframe thead th {\n",
       "        text-align: right;\n",
       "    }\n",
       "</style>\n",
       "<table border=\"1\" class=\"dataframe\">\n",
       "  <thead>\n",
       "    <tr style=\"text-align: right;\">\n",
       "      <th></th>\n",
       "      <th>conversao</th>\n",
       "    </tr>\n",
       "    <tr>\n",
       "      <th>grupo</th>\n",
       "      <th></th>\n",
       "    </tr>\n",
       "  </thead>\n",
       "  <tbody>\n",
       "    <tr>\n",
       "      <th>A</th>\n",
       "      <td>587</td>\n",
       "    </tr>\n",
       "    <tr>\n",
       "      <th>B</th>\n",
       "      <td>981</td>\n",
       "    </tr>\n",
       "  </tbody>\n",
       "</table>\n",
       "</div>"
      ],
      "text/plain": [
       "       conversao\n",
       "grupo           \n",
       "A            587\n",
       "B            981"
      ]
     },
     "execution_count": 32,
     "metadata": {},
     "output_type": "execute_result"
    }
   ],
   "source": [
    "# Visualiza os dados\n",
    "df_ab_sumario.head()"
   ]
  },
  {
   "cell_type": "code",
   "execution_count": 33,
   "id": "d5b678ac",
   "metadata": {},
   "outputs": [],
   "source": [
    "# Sumário com total \n",
    "df_ab_sumario['total'] = df_ab_data.pivot_table(values = 'conversao', index = 'grupo', aggfunc = lambda x: len(x))"
   ]
  },
  {
   "cell_type": "code",
   "execution_count": 34,
   "id": "d2e3e50a",
   "metadata": {},
   "outputs": [],
   "source": [
    "# Sumário com taxa\n",
    "df_ab_sumario['taxa'] = df_ab_data.pivot_table(values = 'conversao', index = 'grupo')"
   ]
  },
  {
   "cell_type": "code",
   "execution_count": 35,
   "id": "284c1c35",
   "metadata": {},
   "outputs": [
    {
     "data": {
      "text/html": [
       "<div>\n",
       "<style scoped>\n",
       "    .dataframe tbody tr th:only-of-type {\n",
       "        vertical-align: middle;\n",
       "    }\n",
       "\n",
       "    .dataframe tbody tr th {\n",
       "        vertical-align: top;\n",
       "    }\n",
       "\n",
       "    .dataframe thead th {\n",
       "        text-align: right;\n",
       "    }\n",
       "</style>\n",
       "<table border=\"1\" class=\"dataframe\">\n",
       "  <thead>\n",
       "    <tr style=\"text-align: right;\">\n",
       "      <th></th>\n",
       "      <th>conversao</th>\n",
       "      <th>total</th>\n",
       "      <th>taxa</th>\n",
       "    </tr>\n",
       "    <tr>\n",
       "      <th>grupo</th>\n",
       "      <th></th>\n",
       "      <th></th>\n",
       "      <th></th>\n",
       "    </tr>\n",
       "  </thead>\n",
       "  <tbody>\n",
       "    <tr>\n",
       "      <th>A</th>\n",
       "      <td>587</td>\n",
       "      <td>3821</td>\n",
       "      <td>0.153625</td>\n",
       "    </tr>\n",
       "    <tr>\n",
       "      <th>B</th>\n",
       "      <td>981</td>\n",
       "      <td>5000</td>\n",
       "      <td>0.196200</td>\n",
       "    </tr>\n",
       "  </tbody>\n",
       "</table>\n",
       "</div>"
      ],
      "text/plain": [
       "       conversao  total      taxa\n",
       "grupo                            \n",
       "A            587   3821  0.153625\n",
       "B            981   5000  0.196200"
      ]
     },
     "execution_count": 35,
     "metadata": {},
     "output_type": "execute_result"
    }
   ],
   "source": [
    "# Visualiza os dados\n",
    "df_ab_sumario.head()"
   ]
  },
  {
   "cell_type": "code",
   "execution_count": 36,
   "id": "b6e40ee6",
   "metadata": {},
   "outputs": [],
   "source": [
    "# Obtemos os valores da variante A\n",
    "conversao_A = df_ab_sumario['conversao'][0]\n",
    "total_A = df_ab_sumario['total'][0]\n",
    "taxa_A = df_ab_sumario['taxa'][0]"
   ]
  },
  {
   "cell_type": "code",
   "execution_count": 37,
   "id": "94d709b7",
   "metadata": {},
   "outputs": [
    {
     "name": "stdout",
     "output_type": "stream",
     "text": [
      "587\n",
      "3821\n",
      "0.15362470557445695\n"
     ]
    }
   ],
   "source": [
    "# Imprime os valores de A\n",
    "print(conversao_A)\n",
    "print(total_A)\n",
    "print(taxa_A)"
   ]
  },
  {
   "cell_type": "code",
   "execution_count": 38,
   "id": "b55545b2",
   "metadata": {},
   "outputs": [],
   "source": [
    "# Obtemos os valores da variante B\n",
    "conversao_B = df_ab_sumario['conversao'][1]\n",
    "total_B = df_ab_sumario['total'][1]\n",
    "taxa_B = df_ab_sumario['taxa'][1]"
   ]
  },
  {
   "cell_type": "code",
   "execution_count": 39,
   "id": "43c12461",
   "metadata": {},
   "outputs": [
    {
     "name": "stdout",
     "output_type": "stream",
     "text": [
      "981\n",
      "5000\n",
      "0.1962\n"
     ]
    }
   ],
   "source": [
    "# Imprime os valores de B\n",
    "print(conversao_B)\n",
    "print(total_B)\n",
    "print(taxa_B)"
   ]
  },
  {
   "cell_type": "markdown",
   "id": "85e5e84d",
   "metadata": {},
   "source": [
    "Taxa de conversão da linha de base (Baseline conversion rate).\n",
    "\n",
    "Igual a  𝑝  no contexto de uma distribuição binomial e  𝑝  é a probabilidade de sucesso."
   ]
  },
  {
   "cell_type": "code",
   "execution_count": 40,
   "id": "afc31227",
   "metadata": {},
   "outputs": [
    {
     "data": {
      "text/plain": [
       "0.15362470557445695"
      ]
     },
     "execution_count": 40,
     "metadata": {},
     "output_type": "execute_result"
    }
   ],
   "source": [
    "# Taxa de conversão da linha de base.\n",
    "conversao_base = taxa_A\n",
    "conversao_base"
   ]
  },
  {
   "cell_type": "markdown",
   "id": "47a52893",
   "metadata": {},
   "source": [
    "Efeito mínimo detectável (Minimum Detectable Effect).\n",
    "\n",
    "Às vezes referido como nível de significância prática."
   ]
  },
  {
   "cell_type": "code",
   "execution_count": 41,
   "id": "3e1345b2",
   "metadata": {},
   "outputs": [
    {
     "data": {
      "text/plain": [
       "0.04257529442554306"
      ]
     },
     "execution_count": 41,
     "metadata": {},
     "output_type": "execute_result"
    }
   ],
   "source": [
    "# Efeito mínimo detectável\n",
    "efeito_minimo = taxa_B - taxa_A\n",
    "efeito_minimo"
   ]
  },
  {
   "cell_type": "markdown",
   "id": "e7b136ec",
   "metadata": {},
   "source": [
    "### 4.2 Etapa 2 - Execução do Teste de Hipóteses"
   ]
  },
  {
   "cell_type": "markdown",
   "id": "da075996",
   "metadata": {},
   "source": [
    "Executamos o teste de hipóteses e registramos a taxa de sucesso de cada grupo."
   ]
  },
  {
   "cell_type": "markdown",
   "id": "c9157f10",
   "metadata": {},
   "source": [
    "Poder estatístico ou sensibilidade.\n",
    "\n",
    "Igual a 1 -  𝛽 .\n",
    "\n",
    "Normalmente 80% é usado para a maioria das análises. É a probabilidade de rejeitar a hipótese nula quando a hipótese nula é de fato falsa.\n",
    "\n",
    "Parâmetros que usaremos para executar o teste:\n",
    "\n",
    "1- Alfa (Nível de significância)  𝛼 : normalmente 5%; probabilidade de rejeitar a hipótese nula quando a hipótese nula for verdadeira\n",
    "\n",
    "2- Beta  𝛽 : probabilidade de aceitar a hipótese nula quando a hipótese nula é realmente falsa."
   ]
  },
  {
   "cell_type": "code",
   "execution_count": 42,
   "id": "8a5692b2",
   "metadata": {},
   "outputs": [],
   "source": [
    "# Parâmetros que usaremos para executar o teste\n",
    "alfa = 0.05\n",
    "beta = 0.2"
   ]
  },
  {
   "cell_type": "code",
   "execution_count": 43,
   "id": "5b753fe1",
   "metadata": {},
   "outputs": [],
   "source": [
    "# Tamanho da amostra\n",
    "n = 50000"
   ]
  },
  {
   "cell_type": "markdown",
   "id": "c20d339e",
   "metadata": {},
   "source": [
    "Podemos supor que a distribuição de nosso grupo de controle é binomial porque os dados são uma série de tentativas de Bernoulli, em que cada tentativa tem apenas dois resultados possíveis (semelhante a um cara ou coroa)."
   ]
  },
  {
   "cell_type": "code",
   "execution_count": 44,
   "id": "d637dca8",
   "metadata": {},
   "outputs": [],
   "source": [
    "# Teste Binomial (usando padrão de 5% para o nível de significância)\n",
    "teste_binom = scs.binom(n, p = conversao_base)"
   ]
  },
  {
   "cell_type": "code",
   "execution_count": 45,
   "id": "6398b67a",
   "metadata": {},
   "outputs": [],
   "source": [
    "# Teste Binomial com o efeito mínimo (no nosso exemplo 0.04 para o nível de significância)\n",
    "teste_binom_mde = scs.binom(n, p = conversao_base + efeito_minimo)"
   ]
  },
  {
   "cell_type": "code",
   "execution_count": 46,
   "id": "93781175",
   "metadata": {},
   "outputs": [
    {
     "data": {
      "text/plain": [
       "<BarContainer object of 50001 artists>"
      ]
     },
     "execution_count": 46,
     "metadata": {},
     "output_type": "execute_result"
    },
    {
     "data": {
      "image/png": "[encoded data removed]",
      "text/plain": [
       "<Figure size 720x720 with 1 Axes>"
      ]
     },
     "metadata": {
      "needs_background": "light"
     },
     "output_type": "display_data"
    }
   ],
   "source": [
    "# Plot\n",
    "\n",
    "# Área de plotagem\n",
    "fig, ax = plt.subplots(figsize = (10, 10))\n",
    "\n",
    "# Definimos diversos valores para x\n",
    "x = np.linspace(0,int(n), int(n) + 1)\n",
    "\n",
    "# Plotamos os resultados com a pmf e alfa de 0.5\n",
    "ax.bar(x, teste_binom.pmf(x), alpha = 0.5)\n",
    "ax.bar(x, teste_binom_mde.pmf(x), alpha = 0.5)"
   ]
  },
  {
   "cell_type": "markdown",
   "id": "dcae0ef3",
   "metadata": {},
   "source": [
    "### 4.3 Etapa 3 - Plot da Distribuição"
   ]
  },
  {
   "cell_type": "markdown",
   "id": "cda11733",
   "metadata": {},
   "source": [
    "Criamos o Plot da distribuição da diferença entre as duas amostras e comparamos os resultados.\n",
    "\n",
    "Podemos comparar os dois grupos traçando a distribuição do grupo de controle e calculando a probabilidade de obter o resultado de nosso grupo de teste."
   ]
  },
  {
   "cell_type": "code",
   "execution_count": 47,
   "id": "aae544de",
   "metadata": {},
   "outputs": [
    {
     "data": {
      "text/plain": [
       "Text(0, 0.5, 'Probabilidade')"
      ]
     },
     "execution_count": 47,
     "metadata": {},
     "output_type": "execute_result"
    },
    {
     "data": {
      "image/png": "[encoded data removed]",
      "text/plain": [
       "<Figure size 1008x432 with 1 Axes>"
      ]
     },
     "metadata": {
      "needs_background": "light"
     },
     "output_type": "display_data"
    }
   ],
   "source": [
    "# Plot da distribuição do grupo A (controle)\n",
    "\n",
    "# Área de plotagem\n",
    "fig, ax = plt.subplots(figsize = (14,6))\n",
    "\n",
    "# Teste de A\n",
    "x = np.linspace(conversao_A - 49, conversao_A + 50, 100)\n",
    "y = scs.binom(total_A, taxa_A).pmf(x)\n",
    "\n",
    "# Cria a barra vertical\n",
    "ax.bar(x, y, alpha = 0.5)\n",
    "ax.axvline(x = taxa_B * total_A, c = 'magenta', alpha = 0.75, linestyle = '--')\n",
    "\n",
    "# Labels\n",
    "plt.xlabel('Conversão')\n",
    "plt.ylabel('Probabilidade')"
   ]
  },
  {
   "cell_type": "code",
   "execution_count": 48,
   "id": "fd112fe1",
   "metadata": {},
   "outputs": [
    {
     "data": {
      "text/plain": [
       "Text(0, 0.5, 'Probabilidade')"
      ]
     },
     "execution_count": 48,
     "metadata": {},
     "output_type": "execute_result"
    },
    {
     "data": {
      "image/png": "[encoded data removed]",
      "text/plain": [
       "<Figure size 1008x432 with 1 Axes>"
      ]
     },
     "metadata": {
      "needs_background": "light"
     },
     "output_type": "display_data"
    }
   ],
   "source": [
    "# Plot da distribuição dos 2 grupos\n",
    "\n",
    "# Área de plotagem \n",
    "fig, ax = plt.subplots(figsize = (14,6))\n",
    "\n",
    "# Gráfico de A\n",
    "xA = np.linspace(conversao_A - 49, conversao_A + 50, 100)\n",
    "yA = scs.binom(total_A, taxa_A).pmf(xA)\n",
    "ax.bar(xA, yA, alpha = 0.5)\n",
    "\n",
    "# Gráfico de B\n",
    "xB = np.linspace(conversao_B - 49, conversao_B + 50, 100)\n",
    "yB = scs.binom(total_B, taxa_B).pmf(xB)\n",
    "ax.bar(xB, yB, alpha = 0.5)\n",
    "\n",
    "# Labels\n",
    "plt.xlabel('Conversão')\n",
    "plt.ylabel('Probabilidade')"
   ]
  },
  {
   "cell_type": "markdown",
   "id": "befbee9b",
   "metadata": {},
   "source": [
    "Podemos ver que o grupo de teste converteu mais usuários do que o grupo de controle. Também podemos ver que o pico dos resultados do grupo de teste é inferior ao do grupo de controle.\n",
    "\n",
    "Devemos nos concentrar na taxa de conversão para que tenhamos uma comparação em termos equivalentes. Para calcular isso, vamos padronizar os dados e comparar a probabilidade de sucesso, p, para cada grupo.\n"
   ]
  },
  {
   "cell_type": "code",
   "execution_count": 49,
   "id": "dd9d509c",
   "metadata": {},
   "outputs": [],
   "source": [
    "# Ajusta o nome das variáveis\n",
    "\n",
    "# Probabilidades (taxas de conversão)\n",
    "p_A = taxa_A\n",
    "p_B = taxa_B\n",
    "\n",
    "# Número de conversões\n",
    "N_A = 11622\n",
    "N_B = 5000"
   ]
  },
  {
   "cell_type": "code",
   "execution_count": 50,
   "id": "5e710921",
   "metadata": {},
   "outputs": [],
   "source": [
    "# Erro padrão (standard error) para a média de ambos os grupos\n",
    "SE_A = np.sqrt(p_A * (1 - p_A)) / np.sqrt(total_A)\n",
    "SE_B = np.sqrt(p_B * (1 - p_B)) / np.sqrt(total_B)"
   ]
  },
  {
   "cell_type": "code",
   "execution_count": 51,
   "id": "de24e43e",
   "metadata": {},
   "outputs": [
    {
     "name": "stdout",
     "output_type": "stream",
     "text": [
      "0.005833423432971666\n",
      "0.0056161474339621814\n"
     ]
    }
   ],
   "source": [
    "# Print\n",
    "print(SE_A)\n",
    "print(SE_B)"
   ]
  },
  {
   "cell_type": "code",
   "execution_count": 52,
   "id": "94ceb3d1",
   "metadata": {},
   "outputs": [
    {
     "data": {
      "text/plain": [
       "Text(0, 0.5, 'PDF - Probability Density Function')"
      ]
     },
     "execution_count": 52,
     "metadata": {},
     "output_type": "execute_result"
    },
    {
     "data": {
      "image/png": "[encoded data removed]",
      "text/plain": [
       "<Figure size 1008x432 with 1 Axes>"
      ]
     },
     "metadata": {
      "needs_background": "light"
     },
     "output_type": "display_data"
    }
   ],
   "source": [
    "# Plot das distribuições das hipóteses nula e alternativa\n",
    "\n",
    "# Área de plotagem\n",
    "fig, ax = plt.subplots(figsize = (14,6))\n",
    "\n",
    "# Dados para a variável aleatória\n",
    "x = np.linspace(0, p_B - p_A, 100)\n",
    "\n",
    "# Distribuição de A\n",
    "yA = scs.norm(p_A, SE_A).pdf(x)\n",
    "ax.plot(xA, yA)\n",
    "ax.axvline(x = p_A, c = 'blue', alpha = 0.5, linestyle = '--')\n",
    "\n",
    "# Distribuição de B\n",
    "yB = scs.norm(p_B, SE_B).pdf(x)\n",
    "ax.plot(xB, yB)\n",
    "ax.axvline(x = p_B, c = 'red', alpha = 0.5, linestyle = '--')\n",
    "\n",
    "# Labels\n",
    "plt.xlabel('Proporção de Conversão')\n",
    "plt.ylabel('PDF - Probability Density Function')"
   ]
  },
  {
   "cell_type": "markdown",
   "id": "b1925cc9",
   "metadata": {},
   "source": [
    "As linhas contínuas representam a taxa de conversão média para cada grupo. A distância entre a linha azul e a linha vermelha é igual à diferença média entre o grupo de controle e teste."
   ]
  },
  {
   "cell_type": "markdown",
   "id": "09872f8c",
   "metadata": {},
   "source": [
    "**Variância da Soma**\n",
    "\n",
    "A hipótese nula afirma que a diferença de probabilidade entre os dois grupos é zero. Portanto, a média para essa distribuição normal será zero. A outra propriedade de que precisaremos para a distribuição normal é o desvio padrão ou a variância.\n",
    "\n",
    "Observação: a variância é o desvio padrão ao quadrado. A variância da diferença dependerá das variâncias da probabilidade para ambos os grupos.\n"
   ]
  },
  {
   "cell_type": "markdown",
   "id": "ae6aafc8",
   "metadata": {},
   "source": [
    "### Verificando a Hipótese Nula e a Hipótese Alternativa\n",
    "\n",
    "Definição da hipótese nula e da hipótese alternativa:\n",
    "\n",
    "**A hipótese nula é a posição de que a mudança no design feito para o grupo de teste resultaria em nenhuma mudança na taxa de conversão.**\n",
    "\n",
    "**A hipótese alternativa é a posição oposta de que a mudança no design do grupo de teste resultaria em uma melhoria (ou redução) na taxa de conversão.**\n",
    "\n",
    "A hipótese nula será uma distribuição normal com uma média de zero e um desvio padrão igual ao erro padrão agrupado."
   ]
  },
  {
   "cell_type": "markdown",
   "id": "3f417822",
   "metadata": {},
   "source": [
    "A hipótese alternativa tem o mesmo desvio padrão que a hipótese nula, mas a média estará localizada na diferença na taxa de conversão, d_hat. Isso faz sentido porque podemos calcular a diferença nas taxas de conversão diretamente dos dados, mas a distribuição normal representa possíveis valores que nosso experimento poderia ter nos dado."
   ]
  },
  {
   "cell_type": "markdown",
   "id": "49d8ea15",
   "metadata": {},
   "source": [
    "Fórmula para o cálculo de z:\n",
    "\n",
    "$$ z = \\frac{(\\bar{x_1}-\\bar{x_2})-D_0}{\\sqrt{\\sigma_1^{2}/n_1+\\sigma_{2}^{2}/n_2}} $$\n",
    "\n",
    "$$ z = \\frac{(\\hat{p_1}-\\hat{p_2})-0}{\\sqrt{\\hat{p}\\hat{q}(\\frac{1}{n_1}+\\frac{1}{n_2})}}$$"
   ]
  },
  {
   "cell_type": "code",
   "execution_count": 53,
   "id": "1db428f1",
   "metadata": {},
   "outputs": [],
   "source": [
    "# Calculando a probabilidade agrupada\n",
    "prob_agrupada = (p_A * N_A + p_B * N_B) / (N_A + N_B)"
   ]
  },
  {
   "cell_type": "code",
   "execution_count": 54,
   "id": "cc0f9c80",
   "metadata": {},
   "outputs": [
    {
     "data": {
      "text/plain": [
       "6.75854058635297"
      ]
     },
     "execution_count": 54,
     "metadata": {},
     "output_type": "execute_result"
    }
   ],
   "source": [
    "# Calculando z\n",
    "z = (p_B - p_A) / (prob_agrupada * (1 - prob_agrupada) * (1 / N_A + 1 / N_B))**0.5\n",
    "z"
   ]
  },
  {
   "cell_type": "code",
   "execution_count": 55,
   "id": "d0c6b2f8",
   "metadata": {},
   "outputs": [
    {
     "data": {
      "text/plain": [
       "True"
      ]
     },
     "execution_count": 55,
     "metadata": {},
     "output_type": "execute_result"
    }
   ],
   "source": [
    "# Verificamos se z é maior que 1.64 (nível de significância de 0.05)\n",
    "z > 1.64"
   ]
  },
  {
   "cell_type": "markdown",
   "id": "c9aa8597",
   "metadata": {},
   "source": [
    "#### 4.3.1 Plot da Distribuição de Probabilidade"
   ]
  },
  {
   "cell_type": "markdown",
   "id": "3413d6d0",
   "metadata": {},
   "source": [
    "Criaremos uma série de funções auxiliares para o plot das distribuições de probabilidade."
   ]
  },
  {
   "cell_type": "code",
   "execution_count": 56,
   "id": "d13e1288",
   "metadata": {},
   "outputs": [],
   "source": [
    "# Função que retorna a probabilidade agrupada para 2 amostras\n",
    "def prob_agrupada_func(N_A, N_B, X_A, X_B):\n",
    "    return (X_A + X_B) / (N_A + N_B)"
   ]
  },
  {
   "cell_type": "code",
   "execution_count": 57,
   "id": "a14753d4",
   "metadata": {},
   "outputs": [],
   "source": [
    "# Função que retorna o erro padrão agrupado para 2 amostras\n",
    "def erro_padrao_agrupado_func(N_A, N_B, X_A, X_B):\n",
    "    p_hat = prob_agrupada_func(N_A, N_B, X_A, X_B)\n",
    "    SE = np.sqrt(p_hat * (1 - p_hat) * (1 / N_A + 1 / N_B))\n",
    "    return SE"
   ]
  },
  {
   "cell_type": "code",
   "execution_count": 58,
   "id": "587cbacc",
   "metadata": {},
   "outputs": [],
   "source": [
    "# Retorna o valor z para um determinado nível de significância\n",
    "def z_val(sig_level = 0.05, two_tailed = True):\n",
    "    \n",
    "    # Gera distribuição para o valor z\n",
    "    z_dist = scs.norm()\n",
    "    \n",
    "    # Verifica se devemos checar as duas caudas\n",
    "    if two_tailed:\n",
    "        sig_level = sig_level/2\n",
    "        area = 1 - sig_level\n",
    "    else:\n",
    "        area = 1 - sig_level\n",
    "\n",
    "    # Valor de z\n",
    "    z = z_dist.ppf(area)\n",
    "\n",
    "    return z"
   ]
  },
  {
   "cell_type": "code",
   "execution_count": 59,
   "id": "18a69514",
   "metadata": {},
   "outputs": [],
   "source": [
    "# Calcula o intervalo de confiança\n",
    "def confidence_interval(sample_mean = 0, sample_std = 1, sample_size = 1, sig_level = 0.05):\n",
    "    \n",
    "    # Calcula o valor de z\n",
    "    z = z_val(sig_level)\n",
    "\n",
    "    # Limites à esquerda e direita\n",
    "    left = sample_mean - z * sample_std / np.sqrt(sample_size)\n",
    "    right = sample_mean + z * sample_std / np.sqrt(sample_size)\n",
    "\n",
    "    return (left, right)"
   ]
  },
  {
   "cell_type": "code",
   "execution_count": 60,
   "id": "7b2c4856",
   "metadata": {},
   "outputs": [],
   "source": [
    "# Função que calcula o intervalo de confiança de duas caudas \n",
    "def plot_CI(ax, \n",
    "            mu, \n",
    "            s, \n",
    "            sig_level = 0.05, \n",
    "            color = 'grey'):\n",
    "\n",
    "    # Calcula o intervalo de confiança\n",
    "    left, right = confidence_interval(sample_mean = mu, sample_std = s, sig_level = sig_level)\n",
    "    \n",
    "    # Inclui o intervalo no gráfico\n",
    "    ax.axvline(left, c = color, linestyle = '--', alpha = 0.5)\n",
    "    ax.axvline(right, c = color, linestyle = '--', alpha = 0.5)"
   ]
  },
  {
   "cell_type": "code",
   "execution_count": 61,
   "id": "66b8da02",
   "metadata": {},
   "outputs": [],
   "source": [
    "# Função para o plot de uma distribuição normal\n",
    "def plot_norm_dist(ax, \n",
    "                   mu, \n",
    "                   std, \n",
    "                   with_CI = False, \n",
    "                   sig_level = 0.05, \n",
    "                   label = None):\n",
    "\n",
    "    # Gera valores para a variável aleatória x\n",
    "    x = np.linspace(mu - 12 * std, mu + 12 * std, 1000)\n",
    "    \n",
    "    # Cria a distribuição normal\n",
    "    y = scs.norm(mu, std).pdf(x)\n",
    "    \n",
    "    # Plot\n",
    "    ax.plot(x, y, label = label)\n",
    "\n",
    "    # Se tivermos intervalo de confiança, incluímos no plot\n",
    "    if with_CI:\n",
    "        plot_CI(ax, mu, std, sig_level = sig_level)"
   ]
  },
  {
   "cell_type": "markdown",
   "id": "e510650f",
   "metadata": {},
   "source": [
    "Função para o plot da distribuição de hipótese nula onde, se não houver mudança real, a distribuição das diferenças entre os grupos de teste e controle será normalmente distribuída."
   ]
  },
  {
   "cell_type": "code",
   "execution_count": 62,
   "id": "520b62b9",
   "metadata": {},
   "outputs": [],
   "source": [
    "# Função para o plot da distribuição da H0\n",
    "def plot_H0(ax, stderr):\n",
    "    plot_norm_dist(ax, 0, stderr, label = \"H0 - Hipótese Nula\")\n",
    "    plot_CI(ax, mu = 0, s = stderr, sig_level = 0.05)"
   ]
  },
  {
   "cell_type": "markdown",
   "id": "3910f3a3",
   "metadata": {},
   "source": [
    "Função para o plot da distribuição de hipótese alternativa onde, se houver uma mudança real, a distribuição das diferenças entre o teste e os grupos de controle será normalmente distribuída e centralizada em torno de d_hat"
   ]
  },
  {
   "cell_type": "code",
   "execution_count": 63,
   "id": "dd57d518",
   "metadata": {},
   "outputs": [],
   "source": [
    "# Função para o plot da distribuição da H1\n",
    "def plot_H1(ax, stderr, d_hat):\n",
    "    plot_norm_dist(ax, d_hat, stderr, label = \"H1 - Hipótese Alternativa\")"
   ]
  },
  {
   "cell_type": "code",
   "execution_count": 64,
   "id": "ad77aa56",
   "metadata": {},
   "outputs": [],
   "source": [
    "# Função que preenche entre o limite de significância superior e a distribuição para hipótese alternativa\n",
    "def show_area(ax, d_hat, stderr, sig_level):\n",
    "\n",
    "    # Intervalo de confiança\n",
    "    left, right = confidence_interval(sample_mean = 0, sample_std = stderr, sig_level = sig_level)\n",
    "    \n",
    "    # Valores para x\n",
    "    x = np.linspace(-12 * stderr, 12 * stderr, 1000)\n",
    "    \n",
    "    # H0\n",
    "    null = ab_dist(stderr, 'controle')\n",
    "    \n",
    "    # H1\n",
    "    alternative = ab_dist(stderr, d_hat, 'teste')\n",
    "\n",
    "    # Se o tipo da área for igual a power\n",
    "    # Preenchemos entre o limite de significância superior e a distribuição para hipótese alternativa\n",
    "    ax.fill_between(x, 0, alternative.pdf(x), color = 'green', alpha = 0.25, where = (x > right))\n",
    "    ax.text(-3 * stderr, null.pdf(0), 'power = {0:.3f}'.format(1 - alternative.cdf(right)), \n",
    "                fontsize = 12, ha = 'right', color = 'k')"
   ]
  },
  {
   "cell_type": "code",
   "execution_count": 65,
   "id": "036d5a3b",
   "metadata": {},
   "outputs": [],
   "source": [
    "# Função que retorna um objeto de distribuição dependendo do tipo de grupo\n",
    "def ab_dist(stderr, d_hat = 0, group_type = 'controle'):\n",
    "\n",
    "    # Verifica o tipo de grupo\n",
    "    if group_type == 'controle':\n",
    "        sample_mean = 0\n",
    "    elif group_type == 'teste':\n",
    "        sample_mean = d_hat\n",
    "\n",
    "    # Cria uma distribuição normal que depende da média e do desvio padrão\n",
    "    dist = scs.norm(sample_mean, stderr)\n",
    "    return dist"
   ]
  },
  {
   "cell_type": "code",
   "execution_count": 66,
   "id": "9814ef1e",
   "metadata": {},
   "outputs": [],
   "source": [
    "# Função que retorna o valor p\n",
    "def p_val(N_A, N_B, p_A, p_B):\n",
    "    return scs.binom(N_A, p_A).pmf(p_B * N_B)"
   ]
  },
  {
   "cell_type": "code",
   "execution_count": 67,
   "id": "ef33ba1e",
   "metadata": {},
   "outputs": [],
   "source": [
    "# Função para o plot da análise do Teste A/B\n",
    "def abplot_func(N_A, \n",
    "                N_B, \n",
    "                bcr, \n",
    "                d_hat, \n",
    "                sig_level = 0.05, \n",
    "                show_p_value = False,\n",
    "                show_legend = True):\n",
    "   \n",
    "    # Define a área de plotagem\n",
    "    fig, ax = plt.subplots(figsize = (14, 8))\n",
    "\n",
    "    # Define parâmetros para encontrar o erro padrão agrupado\n",
    "    X_A = bcr * N_A\n",
    "    X_B = (bcr + d_hat) * N_B\n",
    "    stderr = erro_padrao_agrupado_func(N_A, N_B, X_A, X_B)\n",
    "\n",
    "    # Plot da distribuição da hipótese nula e alternativa\n",
    "    plot_H0(ax, stderr)\n",
    "    plot_H1(ax, stderr, d_hat)\n",
    "\n",
    "    # Definir a extensão da área do plot\n",
    "    ax.set_xlim(-8 * stderr, 8 * stderr)\n",
    "\n",
    "    # Ajustamos o gráfico e preenchemos a área interior\n",
    "    show_area(ax, d_hat, stderr, sig_level)\n",
    "\n",
    "    # Mostramos valores-p com base nas distribuições para os dois grupos\n",
    "    if show_p_value:\n",
    "        null = ab_dist(stderr, 'controle')\n",
    "        p_value = p_val(N_A, N_B, bcr, bcr + d_hat)\n",
    "        ax.text(3 * stderr, null.pdf(0), 'Valor-p = {0:.4f}'.format(p_value), fontsize = 14, ha = 'left')\n",
    "\n",
    "    # Mostra a legenda\n",
    "    if show_legend:\n",
    "        plt.legend()\n",
    "\n",
    "    plt.xlabel('d')\n",
    "    plt.ylabel('PDF')\n",
    "    plt.show()"
   ]
  },
  {
   "cell_type": "markdown",
   "id": "dcb11eb4",
   "metadata": {},
   "source": [
    "Agora que entendemos a derivação do erro padrão combinado, podemos apenas plotar diretamente as hipóteses nula e alternativa para experimentos futuros. Tudo que precisamos é executar a célula abaixo."
   ]
  },
  {
   "cell_type": "code",
   "execution_count": 68,
   "id": "f1173b5d",
   "metadata": {},
   "outputs": [
    {
     "data": {
      "image/png": "[encoded data removed]",
      "text/plain": [
       "<Figure size 1008x576 with 1 Axes>"
      ]
     },
     "metadata": {
      "needs_background": "light"
     },
     "output_type": "display_data"
    }
   ],
   "source": [
    "# Definimos os parâmetros e executamos a função\n",
    "n = N_A + N_B\n",
    "conversao_base = p_A  \n",
    "d_hat = p_B - p_A\n",
    "abplot_func(N_A, N_B, conversao_base, d_hat, show_p_value = True)"
   ]
  },
  {
   "cell_type": "markdown",
   "id": "17dacf89",
   "metadata": {},
   "source": [
    "Visualmente, o gráfico para as hipóteses nula e alternativa é muito semelhante aos outros gráficos acima. Felizmente, as duas curvas têm formato idêntico, portanto, podemos apenas comparar a distância entre as médias das duas distribuições. Podemos ver que a curva de hipótese alternativa sugere que o grupo de teste tem uma taxa de conversão maior do que o grupo de controle. Este gráfico também pode ser usado para determinar diretamente o poder estatístico."
   ]
  },
  {
   "cell_type": "markdown",
   "id": "1e7ba7c8",
   "metadata": {},
   "source": [
    "### 4.4 Etapa 4 - Calculando o Poder Estatístico"
   ]
  },
  {
   "cell_type": "markdown",
   "id": "88660c77",
   "metadata": {},
   "source": [
    "Poder Estatístico e Nível de Significância"
   ]
  },
  {
   "cell_type": "markdown",
   "id": "e3283cdd",
   "metadata": {},
   "source": [
    "É mais fácil definir o poder estatístico e o nível de significância mostrando primeiro como eles são representados no gráfico da hipótese nula e alternativa. Podemos retornar uma visualização do poder estatístico adicionando o parâmetro show_power = True"
   ]
  },
  {
   "cell_type": "code",
   "execution_count": 69,
   "id": "8bbc2bf8",
   "metadata": {},
   "outputs": [
    {
     "data": {
      "image/png": "[encoded data removed]",
      "text/plain": [
       "<Figure size 1008x576 with 1 Axes>"
      ]
     },
     "metadata": {
      "needs_background": "light"
     },
     "output_type": "display_data"
    }
   ],
   "source": [
    "# Executa a função\n",
    "abplot_func(N_A, N_B, conversao_base, d_hat, show_p_value = True)"
   ]
  },
  {
   "cell_type": "markdown",
   "id": "cb52209e",
   "metadata": {},
   "source": [
    "A área sombreada em verde representa o poder estatístico e o valor calculado para o poder também é exibido no gráfico. As linhas tracejadas em cinza no gráfico acima representam o intervalo de confiança (95% para o gráfico acima) para a hipótese nula. O poder estatístico é calculado encontrando a área sob a distribuição de hipótese alternativa e fora do intervalo de confiança da hipótese nula.\n",
    "\n",
    "Depois de executar nosso experimento, obtemos uma taxa de conversão resultante para ambos os grupos. Se calcularmos a diferença entre as taxas de conversão, acabamos com um resultado, a diferença ou o efeito da mudança de design da página web, não mostrando as avaliações de usuários. Nossa tarefa é determinar de qual população esse resultado veio, a hipótese nula ou a hipótese alternativa.\n",
    "\n",
    "A área sob a curva da hipótese alternativa é igual a 1. Se o design alternativo (sem avaliações) for realmente melhor, o poder é a probabilidade de aceitarmos a hipótese alternativa e rejeitarmos a hipótese nula e é igual à área sombreada em verde (verdadeiro positivo). A área oposta sob a curva alternativa é a probabilidade de não rejeitarmos a hipótese nula e rejeitarmos a hipótese alternativa (falso negativo). Isso é conhecido como beta no teste A/B ou teste de hipótese e é mostrado abaixo.\n",
    "\n",
    "Se a hipótese nula for verdadeira e realmente não houver diferença entre os grupos de controle e teste, o nível de significância é a probabilidade de rejeitarmos a hipótese nula e aceitarmos a hipótese alternativa (falso positivo). Um falso positivo é quando concluímos erroneamente que o novo design é melhor. Este valor é baixo porque queremos limitar essa probabilidade.\n",
    "\n",
    "Muitas vezes, um problema será fornecido com um nível de confiança desejado em vez do nível de significância. Um nível de confiança típico de 95% para um teste A / B corresponde a um nível de significância de 0,05.\n",
    "\n",
    "Os experimentos são normalmente configurados para uma potência mínima desejada de 80%. Se nosso novo design for realmente melhor, queremos que nosso experimento mostre que há pelo menos 80% de probabilidade de que esse seja o caso. Sabemos que, se aumentarmos o tamanho da amostra para cada grupo, diminuiremos a variância combinada para nossa hipótese nula e alternativa. Isso tornará nossas distribuições muito mais estreitas e pode aumentar o poder estatístico. Vamos dar uma olhada em como o tamanho da amostra afetará diretamente nossos resultados."
   ]
  },
  {
   "cell_type": "markdown",
   "id": "80bfdb01",
   "metadata": {},
   "source": [
    "### 4.5 Tarefa 5 - Influência do Tamanho da Amostra no Teste A/B"
   ]
  },
  {
   "cell_type": "markdown",
   "id": "88a531aa",
   "metadata": {},
   "source": [
    "Nossas curvas para a hipótese nula e alternativa tornaram-se mais estreitas e mais da área sob a curva alternativa está localizada à direita da linha tracejada cinza. O resultado para potência é maior que 0,80 e atende a nossa referência de potência estatística. Agora podemos dizer que nossos resultados são estatisticamente significativos.\n",
    "\n",
    "O próximo problema que devemos encontrar é determinar o tamanho mínimo da amostra de que precisaremos para o experimento. E isso é útil saber porque está diretamente relacionado à rapidez com que podemos concluir os experimentos e fornecer resultados estatisticamente significativos para a área de negócio."
   ]
  },
  {
   "cell_type": "code",
   "execution_count": 70,
   "id": "e9122e00",
   "metadata": {},
   "outputs": [
    {
     "data": {
      "image/png": "[encoded data removed]",
      "text/plain": [
       "<Figure size 1008x576 with 1 Axes>"
      ]
     },
     "metadata": {
      "needs_background": "light"
     },
     "output_type": "display_data"
    }
   ],
   "source": [
    "# Executa a função\n",
    "abplot_func(2000, 2000, conversao_base, d_hat)"
   ]
  },
  {
   "cell_type": "markdown",
   "id": "732f3445",
   "metadata": {},
   "source": [
    "Temos a taxa de conversão de linha de base e o efeito mínimo detectável, que é a diferença mínima entre o controle e o grupo de teste que a equipe de negócio determinará para valer a pena o investimento de fazer a mudança de design em primeiro lugar."
   ]
  },
  {
   "cell_type": "code",
   "execution_count": 71,
   "id": "43288fb0",
   "metadata": {},
   "outputs": [],
   "source": [
    "# Função para incluir o valor z no plot\n",
    "def zplot(area = 0.95, two_tailed = True, align_right = False):\n",
    "\n",
    "    # Cria a área de plotagem\n",
    "    fig = plt.figure(figsize = (12, 6))\n",
    "    ax = fig.subplots()\n",
    "    \n",
    "    # Cria a distribuição normal\n",
    "    norm = scs.norm()\n",
    "    \n",
    "    # Cria os pontos de dados para o plot\n",
    "    x = np.linspace(-5, 5, 1000)\n",
    "    y = norm.pdf(x)\n",
    "\n",
    "    ax.plot(x, y)\n",
    "\n",
    "    # Código para preencher áreas para testes bidirecionais\n",
    "    if two_tailed:\n",
    "        left = norm.ppf(0.5 - area / 2)\n",
    "        right = norm.ppf(0.5 + area / 2)\n",
    "        ax.vlines(right, 0, norm.pdf(right), color = 'grey', linestyle = '--')\n",
    "        ax.vlines(left, 0, norm.pdf(left), color = 'grey', linestyle = '--')\n",
    "\n",
    "        ax.fill_between(x, 0, y, color = 'grey', alpha = 0.25, where = (x > left) & (x < right))\n",
    "        \n",
    "        plt.xlabel('z')\n",
    "        plt.ylabel('PDF')\n",
    "        plt.text(left, norm.pdf(left), \"z = {0:.3f}\".format(left), \n",
    "                 fontsize = 12, \n",
    "                 rotation = 90, \n",
    "                 va = \"bottom\", \n",
    "                 ha = \"right\")\n",
    "        plt.text(right, norm.pdf(right), \"z = {0:.3f}\".format(right), \n",
    "                 fontsize = 12, \n",
    "                 rotation = 90, \n",
    "                 va = \"bottom\", \n",
    "                 ha = \"left\")\n",
    "    \n",
    "    # Para testes de uma cauda\n",
    "    else:\n",
    "        # Alinhamento à direita\n",
    "        if align_right:\n",
    "            left = norm.ppf(1-area)\n",
    "            ax.vlines(left, 0, norm.pdf(left), color = 'grey', linestyle = '--')\n",
    "            ax.fill_between(x, 0, y, color = 'grey', alpha = 0.25, where = x > left)\n",
    "            plt.text(left, norm.pdf(left), \"z = {0:.3f}\".format(left), \n",
    "                     fontsize = 12, \n",
    "                     rotation = 90, \n",
    "                     va = \"bottom\", \n",
    "                     ha = \"right\")\n",
    "        \n",
    "        # Alinhamento à esquerda\n",
    "        else:\n",
    "            right = norm.ppf(area)\n",
    "            ax.vlines(right, 0, norm.pdf(right), color = 'grey', linestyle = '--')\n",
    "            ax.fill_between(x, 0, y, color = 'grey', alpha = 0.25, where = x < right)\n",
    "            plt.text(right, norm.pdf(right), \"z = {0:.3f}\".format(right), \n",
    "                     fontsize = 12, \n",
    "                     rotation = 90, \n",
    "                     va = \"bottom\", \n",
    "                     ha = \"left\")\n",
    "\n",
    "    # Incluímos texto no plot\n",
    "    plt.text(0, 0.1, \"Área Sombreada = {0:.3f}\".format(area), fontsize = 12, ha = 'center')\n",
    "    \n",
    "    # Labels\n",
    "    plt.xlabel('z')\n",
    "    plt.ylabel('PDF')\n",
    "\n",
    "    plt.show()"
   ]
  },
  {
   "cell_type": "code",
   "execution_count": 72,
   "id": "5d2c3ce5",
   "metadata": {},
   "outputs": [
    {
     "name": "stdout",
     "output_type": "stream",
     "text": [
      "6.75854058635297\n",
      "1.6448536269514722\n",
      "True\n"
     ]
    }
   ],
   "source": [
    "# Print do valor z\n",
    "print(z)\n",
    "print(z_val(sig_level = 0.05, two_tailed = False))\n",
    "print(z > z_val(sig_level = 0.05, two_tailed = False))"
   ]
  },
  {
   "cell_type": "code",
   "execution_count": 73,
   "id": "db0e6844",
   "metadata": {},
   "outputs": [
    {
     "data": {
      "image/png": "[encoded data removed]",
      "text/plain": [
       "<Figure size 864x432 with 1 Axes>"
      ]
     },
     "metadata": {
      "needs_background": "light"
     },
     "output_type": "display_data"
    }
   ],
   "source": [
    "# Plot de z\n",
    "zplot(area = 0.98, two_tailed = False, align_right = False)"
   ]
  },
  {
   "cell_type": "markdown",
   "id": "53e5d5e8",
   "metadata": {},
   "source": [
    "Código Python que executa o mesmo cálculo para o tamanho mínimo da amostra:"
   ]
  },
  {
   "cell_type": "markdown",
   "id": "ee2a0fda",
   "metadata": {},
   "source": [
    "$$ n_A = k*n_B $$\n",
    "\n",
    "$$ n_B = (\\frac{p_A(1-p_A)}{k}+p_B(1-p_B)) (\\frac{Z_{1-\\alpha} + Z_{1-\\beta}}{p_A-p_B})^{2}$$\n",
    "\n",
    "$$ n = \\frac{2(\\bar{p})(1-\\bar{p})(Z_{1-\\beta}+Z_{1-\\alpha})^2}{(p_B-p_A)^2}$$"
   ]
  },
  {
   "cell_type": "code",
   "execution_count": 74,
   "id": "dc5cfcd2",
   "metadata": {},
   "outputs": [
    {
     "name": "stdout",
     "output_type": "stream",
     "text": [
      "0.8416212335729143\n",
      "1.6448536269514722\n"
     ]
    }
   ],
   "source": [
    "# Calculamos os valores de z alfa e beta\n",
    "sig_level = 0.05\n",
    "beta = 0.2\n",
    "k = N_A/N_B\n",
    "standard_norm = scs.norm(0, 1)\n",
    "Z_beta = standard_norm.ppf(1-beta)\n",
    "Z_alpha = standard_norm.ppf(1-sig_level)\n",
    "print(Z_beta)\n",
    "print(Z_alpha)"
   ]
  },
  {
   "cell_type": "markdown",
   "id": "e89fb7e9",
   "metadata": {},
   "source": [
    "Vamos calcular o tamanho mínimo necessário para a amostra."
   ]
  },
  {
   "cell_type": "code",
   "execution_count": 75,
   "id": "b53d061e",
   "metadata": {},
   "outputs": [],
   "source": [
    "# Função para encontrar o tamanho mínimo da amostra\n",
    "def calcula_tamanho_min_amostra(N_A, \n",
    "                                N_B, \n",
    "                                p_A, \n",
    "                                p_B, \n",
    "                                power = 0.8, \n",
    "                                sig_level = 0.05, \n",
    "                                two_sided = False):\n",
    "   \n",
    "    k = N_A/N_B\n",
    "    \n",
    "    # Distribuição normal para determinar os valores z\n",
    "    standard_norm = scs.norm(0, 1)\n",
    "\n",
    "    # Encontramos o valor de z para o poder estatístico\n",
    "    Z_beta = standard_norm.ppf(power)\n",
    "    \n",
    "    # Encontramos z alfa\n",
    "    if two_sided == True:\n",
    "        Z_alpha = standard_norm.ppf(1-sig_level/2)\n",
    "    else:\n",
    "        Z_alpha = standard_norm.ppf(1-sig_level)\n",
    "\n",
    "    # Probabilidade agrupada\n",
    "    pooled_prob = (p_A + p_B) / 2\n",
    "\n",
    "    # Tamanho mínimo da amostra\n",
    "    min_N = (2 * pooled_prob * (1 - pooled_prob) * (Z_beta + Z_alpha)**2 / efeito_minimo**2)    \n",
    "\n",
    "    return min_N"
   ]
  },
  {
   "cell_type": "code",
   "execution_count": 76,
   "id": "06c40945",
   "metadata": {},
   "outputs": [
    {
     "data": {
      "text/plain": [
       "1249.8068972849476"
      ]
     },
     "execution_count": 76,
     "metadata": {},
     "output_type": "execute_result"
    }
   ],
   "source": [
    "# Calculamos o tamanho mínimo da amostra com two_sided = True\n",
    "calcula_tamanho_min_amostra(N_A, N_B, p_A, p_B, power = 0.8, sig_level = 0.05, two_sided = True)"
   ]
  },
  {
   "cell_type": "code",
   "execution_count": 77,
   "id": "75c19d36",
   "metadata": {},
   "outputs": [
    {
     "data": {
      "text/plain": [
       "984.4720435225323"
      ]
     },
     "execution_count": 77,
     "metadata": {},
     "output_type": "execute_result"
    }
   ],
   "source": [
    "# Calculamos o tamanho mínimo da amostra com two_sided = False\n",
    "calcula_tamanho_min_amostra(N_A, N_B, p_A, p_B, power = 0.8, sig_level = 0.05, two_sided = False)"
   ]
  },
  {
   "cell_type": "markdown",
   "id": "b9834837",
   "metadata": {},
   "source": [
    "Agora vamos calcular o tamanho mínimo da amostra considerando nosso baseline."
   ]
  },
  {
   "cell_type": "code",
   "execution_count": 78,
   "id": "d0ab8359",
   "metadata": {},
   "outputs": [
    {
     "data": {
      "text/plain": [
       "0.1962"
      ]
     },
     "execution_count": 78,
     "metadata": {},
     "output_type": "execute_result"
    }
   ],
   "source": [
    "conversao_base + efeito_minimo"
   ]
  },
  {
   "cell_type": "code",
   "execution_count": 79,
   "id": "f4ab99f2",
   "metadata": {},
   "outputs": [
    {
     "data": {
      "text/plain": [
       "0.1749123527872285"
      ]
     },
     "execution_count": 79,
     "metadata": {},
     "output_type": "execute_result"
    }
   ],
   "source": [
    "# Calcula a probabilidade agrupada\n",
    "probabilidade_agrupada = (conversao_base + conversao_base + efeito_minimo) / 2\n",
    "probabilidade_agrupada"
   ]
  },
  {
   "cell_type": "code",
   "execution_count": 80,
   "id": "3d710b29",
   "metadata": {},
   "outputs": [
    {
     "data": {
      "text/plain": [
       "2.4864748605243863"
      ]
     },
     "execution_count": 80,
     "metadata": {},
     "output_type": "execute_result"
    }
   ],
   "source": [
    "# Soma de z alfa e beta\n",
    "Z_beta + Z_alpha"
   ]
  },
  {
   "cell_type": "code",
   "execution_count": 81,
   "id": "80ca0a8e",
   "metadata": {},
   "outputs": [
    {
     "data": {
      "text/plain": [
       "984.4720435225323"
      ]
     },
     "execution_count": 81,
     "metadata": {},
     "output_type": "execute_result"
    }
   ],
   "source": [
    "# Tamanho mínimo da amostra para o baseline\n",
    "min_N = (2 * probabilidade_agrupada * (1 - probabilidade_agrupada) * (Z_beta + Z_alpha)**2 / efeito_minimo**2)\n",
    "min_N"
   ]
  },
  {
   "cell_type": "markdown",
   "id": "fd1376a4",
   "metadata": {},
   "source": [
    "Poder estatístico para o baseline."
   ]
  },
  {
   "cell_type": "code",
   "execution_count": 82,
   "id": "75e4203e",
   "metadata": {},
   "outputs": [
    {
     "data": {
      "image/png": "[encoded data removed]",
      "text/plain": [
       "<Figure size 1008x576 with 1 Axes>"
      ]
     },
     "metadata": {
      "needs_background": "light"
     },
     "output_type": "display_data"
    }
   ],
   "source": [
    "# Executa a função para 984 amostras\n",
    "abplot_func(N_A = 984, \n",
    "            N_B = 984, \n",
    "            bcr = p_A, \n",
    "            d_hat = p_B - p_A, \n",
    "            sig_level = 0.05, \n",
    "            show_p_value = False, \n",
    "            show_legend = True)"
   ]
  },
  {
   "cell_type": "markdown",
   "id": "503aa860",
   "metadata": {},
   "source": [
    "Poder estatístico para o tamanho de amostra calculado."
   ]
  },
  {
   "cell_type": "code",
   "execution_count": 83,
   "id": "aa5913f9",
   "metadata": {},
   "outputs": [
    {
     "data": {
      "image/png": "[encoded data removed]",
      "text/plain": [
       "<Figure size 1008x576 with 1 Axes>"
      ]
     },
     "metadata": {
      "needs_background": "light"
     },
     "output_type": "display_data"
    }
   ],
   "source": [
    "# Executa a função para 1249 amostras\n",
    "abplot_func(N_A = 1249, \n",
    "            N_B = 1249, \n",
    "            bcr = p_A, \n",
    "            d_hat = p_B - p_A, \n",
    "            sig_level = 0.05, \n",
    "            show_p_value = False, \n",
    "            show_legend = True)"
   ]
  },
  {
   "cell_type": "markdown",
   "id": "6bc1e88c",
   "metadata": {},
   "source": [
    "## 5. Conclusão"
   ]
  },
  {
   "cell_type": "markdown",
   "id": "e6a7a218",
   "metadata": {},
   "source": [
    "O poder calculado para este tamanho de amostra foi de aproximadamente 0,80. Portanto, para afirmar que a mudança na página removendo as avaliações de usuários realmente aumentou a taxa de conversão precisamos de pelos menos 1249 amostras"
   ]
  },
  {
   "cell_type": "markdown",
   "id": "407d16ea",
   "metadata": {},
   "source": [
    "Para o nosso exemplo, com 1249 amostras podemos afirmar que sim, a alteração estratégica na página ocasiona aumento na taxa de conversão."
   ]
  },
  {
   "cell_type": "markdown",
   "id": "173360a9",
   "metadata": {},
   "source": [
    "## Entre em Contato!"
   ]
  },
  {
   "cell_type": "markdown",
   "id": "020b4c89",
   "metadata": {},
   "source": [
    "Caso tenha alguma dúvida ou sugestão, entre em contato."
   ]
  },
  {
   "cell_type": "markdown",
   "id": "e9ac7823",
   "metadata": {},
   "source": [
    "|Github | Linkedin | E-mail | Portfólio |\n",
    "|:-----|:----:|:----:|:----:|\n",
    "|[![](https://icongr.am/devicon/github-original.svg?size=40&color=currentColor)](https://github.com/th14g0cust0d10) |[![](https://icongr.am/devicon/linkedin-plain.svg?size=40&color=currentColor)](https://www.linkedin.com/in/thiago-custodio/) |[![](https://icongr.am/fontawesome/envelope.svg?size=40&color=currentColor)](mailto:th14g0cust0d10@gmail.com) |[![](https://icongr.am/devicon/chrome-plain.svg?size=40&color=currentColor)](https://th14g0cust0d10.github.io/) |\n"
   ]
  }
 ],
 "metadata": {
  "kernelspec": {
   "display_name": "Python 3",
   "language": "python",
   "name": "python3"
  },
  "language_info": {
   "codemirror_mode": {
    "name": "ipython",
    "version": 3
   },
   "file_extension": ".py",
   "mimetype": "text/x-python",
   "name": "python",
   "nbconvert_exporter": "python",
   "pygments_lexer": "ipython3",
   "version": "3.8.8"
  }
 },
 "nbformat": 4,
 "nbformat_minor": 5
}
